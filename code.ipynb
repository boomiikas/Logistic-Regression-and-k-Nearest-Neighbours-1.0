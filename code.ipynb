{
 "cells": [
  {
   "cell_type": "code",
   "execution_count": 24,
   "id": "8b34a1db",
   "metadata": {},
   "outputs": [],
   "source": [
    "import pandas as pd\n",
    "from sklearn.linear_model import LogisticRegression\n",
    "from sklearn.preprocessing import StandardScaler\n",
    "from sklearn.neighbors import  KNeighborsClassifier\n",
    "from sklearn.model_selection import train_test_split,GridSearchCV\n",
    "from sklearn.metrics import accuracy_score, precision_score, recall_score, f1_score, roc_auc_score, confusion_matrix"
   ]
  },
  {
   "cell_type": "markdown",
   "id": "cb9b47a7",
   "metadata": {},
   "source": [
    "Email spam"
   ]
  },
  {
   "cell_type": "code",
   "execution_count": 2,
   "id": "fc064e8c",
   "metadata": {},
   "outputs": [
    {
     "data": {
      "text/plain": [
       "Index(['word_free', 'word_offer', 'word_click', 'num_links', 'num_caps',\n",
       "       'sender_reputation', 'is_spam'],\n",
       "      dtype='object')"
      ]
     },
     "execution_count": 2,
     "metadata": {},
     "output_type": "execute_result"
    }
   ],
   "source": [
    "df=pd.read_csv('email_spam.csv')\n",
    "df.columns"
   ]
  },
  {
   "cell_type": "code",
   "execution_count": 36,
   "id": "1ea3e765",
   "metadata": {},
   "outputs": [
    {
     "data": {
      "text/plain": [
       "size_m2               0\n",
       "distance_center_km    0\n",
       "rating                0\n",
       "num_reviews           0\n",
       "price                 0\n",
       "dtype: int64"
      ]
     },
     "execution_count": 36,
     "metadata": {},
     "output_type": "execute_result"
    }
   ],
   "source": [
    "df.isnull().sum()"
   ]
  },
  {
   "cell_type": "code",
   "execution_count": 39,
   "id": "f80db3fe",
   "metadata": {},
   "outputs": [
    {
     "data": {
      "text/plain": [
       "size_m2               0\n",
       "distance_center_km    0\n",
       "rating                0\n",
       "num_reviews           0\n",
       "price                 0\n",
       "dtype: int64"
      ]
     },
     "execution_count": 39,
     "metadata": {},
     "output_type": "execute_result"
    }
   ],
   "source": [
    "df.isna().sum()"
   ]
  },
  {
   "cell_type": "code",
   "execution_count": 7,
   "id": "96d0efc7",
   "metadata": {},
   "outputs": [
    {
     "name": "stdout",
     "output_type": "stream",
     "text": [
      "Accuracy: 0.3\n",
      "Precision: 0.18181818181818182\n",
      "Recall: 0.09523809523809523\n",
      "F1 Score: 0.125\n",
      "ROC-AUC: 0.2055137844611529\n",
      "Confusion Matrix:\n",
      " [[10  9]\n",
      " [19  2]]\n"
     ]
    }
   ],
   "source": [
    "X=df.drop(columns='is_spam')\n",
    "y=df['is_spam']\n",
    "scaler = StandardScaler()\n",
    "X_scaled = scaler.fit_transform(X)\n",
    "x_train,x_test,y_train,y_test=train_test_split(X,y,test_size=0.2,random_state=42)\n",
    "logreg=LogisticRegression()\n",
    "logreg.fit(x_train,y_train)\n",
    "y_pred = logreg.predict(x_test)\n",
    "y_prob = logreg.predict_proba(x_test)[:, 1]   # Probabilities for ROC-AUC\n",
    "print(\"Accuracy:\", accuracy_score(y_test, y_pred))\n",
    "print(\"Precision:\", precision_score(y_test, y_pred))\n",
    "print(\"Recall:\", recall_score(y_test, y_pred))\n",
    "print(\"F1 Score:\", f1_score(y_test, y_pred))\n",
    "print(\"ROC-AUC:\", roc_auc_score(y_test, y_prob))\n",
    "print(\"Confusion Matrix:\\n\", confusion_matrix(y_test, y_pred))"
   ]
  },
  {
   "cell_type": "markdown",
   "id": "fffb2765",
   "metadata": {},
   "source": [
    "Customer churn or not"
   ]
  },
  {
   "cell_type": "code",
   "execution_count": 8,
   "id": "a9288304",
   "metadata": {},
   "outputs": [
    {
     "data": {
      "text/plain": [
       "Index(['tenure_months', 'monthly_charges', 'support_tickets', 'is_premium',\n",
       "       'avg_usage_hours', 'churn'],\n",
       "      dtype='object')"
      ]
     },
     "execution_count": 8,
     "metadata": {},
     "output_type": "execute_result"
    }
   ],
   "source": [
    "df=pd.read_csv('customer_churn.csv')\n",
    "df.columns"
   ]
  },
  {
   "cell_type": "code",
   "execution_count": 40,
   "id": "a5c5255c",
   "metadata": {},
   "outputs": [
    {
     "data": {
      "text/plain": [
       "size_m2               0\n",
       "distance_center_km    0\n",
       "rating                0\n",
       "num_reviews           0\n",
       "price                 0\n",
       "dtype: int64"
      ]
     },
     "execution_count": 40,
     "metadata": {},
     "output_type": "execute_result"
    }
   ],
   "source": [
    "df.isnull().sum()"
   ]
  },
  {
   "cell_type": "code",
   "execution_count": 41,
   "id": "add52f9b",
   "metadata": {},
   "outputs": [
    {
     "data": {
      "text/plain": [
       "size_m2               0\n",
       "distance_center_km    0\n",
       "rating                0\n",
       "num_reviews           0\n",
       "price                 0\n",
       "dtype: int64"
      ]
     },
     "execution_count": 41,
     "metadata": {},
     "output_type": "execute_result"
    }
   ],
   "source": [
    "df.isna().sum()"
   ]
  },
  {
   "cell_type": "code",
   "execution_count": 11,
   "id": "7bef71c9",
   "metadata": {},
   "outputs": [
    {
     "name": "stdout",
     "output_type": "stream",
     "text": [
      "Accuracy: 0.6\n",
      "Precision: 0.6521739130434783\n",
      "Recall: 0.6521739130434783\n",
      "F1 Score: 0.6521739130434783\n",
      "ROC-AUC: 0.6445012787723785\n",
      "Confusion Matrix:\n",
      " [[ 9  8]\n",
      " [ 8 15]]\n"
     ]
    }
   ],
   "source": [
    "x=df.drop(columns='churn')\n",
    "y=df['churn']\n",
    "scaler=StandardScaler()\n",
    "x_scaled=scaler.fit_transform(x)\n",
    "x_train,x_test,y_train,y_test=train_test_split(x,y,test_size=0.2,random_state=42)\n",
    "logreg=LogisticRegression()\n",
    "logreg.fit(x_train,y_train)\n",
    "y_pred=logreg.predict(x_test)\n",
    "y_prob=logreg.predict_proba(x_test)[:,1]\n",
    "print(\"Accuracy:\", accuracy_score(y_test, y_pred))\n",
    "print(\"Precision:\", precision_score(y_test, y_pred))\n",
    "print(\"Recall:\", recall_score(y_test, y_pred))\n",
    "print(\"F1 Score:\", f1_score(y_test, y_pred))\n",
    "print(\"ROC-AUC:\", roc_auc_score(y_test, y_prob))\n",
    "print(\"Confusion Matrix:\\n\", confusion_matrix(y_test, y_pred))"
   ]
  },
  {
   "cell_type": "markdown",
   "id": "2a13aa75",
   "metadata": {},
   "source": [
    "Disease stage"
   ]
  },
  {
   "cell_type": "code",
   "execution_count": 12,
   "id": "b12d2a08",
   "metadata": {},
   "outputs": [
    {
     "data": {
      "text/plain": [
       "Index(['age', 'b1', 'b2', 'b3', 'b4', 'stage'], dtype='object')"
      ]
     },
     "execution_count": 12,
     "metadata": {},
     "output_type": "execute_result"
    }
   ],
   "source": [
    "df=pd.read_csv('disease_stage.csv')\n",
    "df.columns"
   ]
  },
  {
   "cell_type": "code",
   "execution_count": 42,
   "id": "28635d78",
   "metadata": {},
   "outputs": [
    {
     "data": {
      "text/plain": [
       "size_m2               0\n",
       "distance_center_km    0\n",
       "rating                0\n",
       "num_reviews           0\n",
       "price                 0\n",
       "dtype: int64"
      ]
     },
     "execution_count": 42,
     "metadata": {},
     "output_type": "execute_result"
    }
   ],
   "source": [
    "df.isnull().sum()"
   ]
  },
  {
   "cell_type": "code",
   "execution_count": 43,
   "id": "a6df130b",
   "metadata": {},
   "outputs": [
    {
     "data": {
      "text/plain": [
       "size_m2               0\n",
       "distance_center_km    0\n",
       "rating                0\n",
       "num_reviews           0\n",
       "price                 0\n",
       "dtype: int64"
      ]
     },
     "execution_count": 43,
     "metadata": {},
     "output_type": "execute_result"
    }
   ],
   "source": [
    "df.isna().sum()"
   ]
  },
  {
   "cell_type": "code",
   "execution_count": 23,
   "id": "d0f7cb23",
   "metadata": {},
   "outputs": [
    {
     "name": "stdout",
     "output_type": "stream",
     "text": [
      "Accuracy: 0.275\n",
      "Precision: 0.2577214452214452\n",
      "Recall: 0.25772144522144524\n",
      "F1 Score: 0.2569444444444444\n",
      "ROC-AUC: 0.3662486240611241\n",
      "Confusion Matrix:\n",
      " [[7 6 3]\n",
      " [3 2 6]\n",
      " [6 5 2]]\n"
     ]
    },
    {
     "name": "stderr",
     "output_type": "stream",
     "text": [
      "c:\\Users\\boomi\\anaconda3\\envs\\pyai\\Lib\\site-packages\\sklearn\\linear_model\\_logistic.py:473: ConvergenceWarning: lbfgs failed to converge after 100 iteration(s) (status=1):\n",
      "STOP: TOTAL NO. of ITERATIONS REACHED LIMIT\n",
      "\n",
      "Increase the number of iterations to improve the convergence (max_iter=100).\n",
      "You might also want to scale the data as shown in:\n",
      "    https://scikit-learn.org/stable/modules/preprocessing.html\n",
      "Please also refer to the documentation for alternative solver options:\n",
      "    https://scikit-learn.org/stable/modules/linear_model.html#logistic-regression\n",
      "  n_iter_i = _check_optimize_result(\n"
     ]
    }
   ],
   "source": [
    "x=df.drop(columns='stage')\n",
    "y=df['stage']\n",
    "scaler=StandardScaler()\n",
    "x_scaled=scaler.fit_transform(x)\n",
    "x_train,x_test,y_train,y_test=train_test_split(x,y,test_size=0.2,random_state=42)\n",
    "logreg=LogisticRegression()\n",
    "logreg.fit(x_train,y_train)\n",
    "y_pred=logreg.predict(x_test)\n",
    "y_prob=logreg.predict_proba(x_test)\n",
    "print(\"Accuracy:\", accuracy_score(y_test, y_pred))\n",
    "print(\"Precision:\", precision_score(y_test, y_pred,average='macro'))\n",
    "print(\"Recall:\", recall_score(y_test, y_pred,average='macro'))\n",
    "print(\"F1 Score:\", f1_score(y_test, y_pred,average='macro'))\n",
    "print(\"ROC-AUC:\", roc_auc_score(y_test, y_prob,multi_class='ovr'))\n",
    "print(\"Confusion Matrix:\\n\", confusion_matrix(y_test, y_pred))"
   ]
  },
  {
   "cell_type": "markdown",
   "id": "9e0d12e9",
   "metadata": {},
   "source": [
    "Flowers — k-NN Classification with CV"
   ]
  },
  {
   "cell_type": "code",
   "execution_count": 25,
   "id": "777e7766",
   "metadata": {},
   "outputs": [
    {
     "data": {
      "text/plain": [
       "Index(['sepal_length', 'sepal_width', 'petal_length', 'petal_width',\n",
       "       'species'],\n",
       "      dtype='object')"
      ]
     },
     "execution_count": 25,
     "metadata": {},
     "output_type": "execute_result"
    }
   ],
   "source": [
    "df=pd.read_csv('flowers.csv')\n",
    "df.columns"
   ]
  },
  {
   "cell_type": "code",
   "execution_count": 46,
   "id": "7a103d03",
   "metadata": {},
   "outputs": [
    {
     "name": "stdout",
     "output_type": "stream",
     "text": [
      "Missing values check:\n",
      " size_m2               0\n",
      "distance_center_km    0\n",
      "rating                0\n",
      "num_reviews           0\n",
      "price                 0\n",
      "dtype: int64\n",
      "Nan values check:\n",
      " size_m2               0\n",
      "distance_center_km    0\n",
      "rating                0\n",
      "num_reviews           0\n",
      "price                 0\n",
      "dtype: int64\n"
     ]
    }
   ],
   "source": [
    "print(\"Missing values check:\\n\",df.isnull().sum())\n",
    "print(\"Nan values check:\\n\",df.isna().sum())\n"
   ]
  },
  {
   "cell_type": "code",
   "execution_count": 27,
   "id": "b8e7c296",
   "metadata": {},
   "outputs": [
    {
     "name": "stdout",
     "output_type": "stream",
     "text": [
      "Best k: 22\n",
      "CV Score: 0.43125\n",
      "Test Accuracy: 0.225\n",
      "Confusion Matrix:\n",
      " [[2 7 9]\n",
      " [5 3 4]\n",
      " [4 2 4]]\n"
     ]
    }
   ],
   "source": [
    "x=df.drop(columns='species')\n",
    "y=df['species']\n",
    "scaler=StandardScaler()\n",
    "x_scaled=scaler.fit_transform(x)\n",
    "X_train,X_test,y_train,y_test=train_test_split(x,y,test_size=0.2,random_state=42)\n",
    "#kNN with cv=5\n",
    "param_grid={\"n_neighbors\": range(1, 26)}\n",
    "knn = KNeighborsClassifier()\n",
    "grid = GridSearchCV(knn, param_grid, cv=5)\n",
    "grid.fit(X_train, y_train)\n",
    "best_k = grid.best_params_[\"n_neighbors\"]\n",
    "best_knn = grid.best_estimator_\n",
    "y_pred = best_knn.predict(X_test)\n",
    "print(\"Best k:\", best_k)\n",
    "print(\"CV Score:\", grid.best_score_)\n",
    "print(\"Test Accuracy:\", accuracy_score(y_test, y_pred))\n",
    "print(\"Confusion Matrix:\\n\", confusion_matrix(y_test, y_pred))"
   ]
  },
  {
   "cell_type": "markdown",
   "id": "3e057d42",
   "metadata": {},
   "source": [
    " Airbnb Prices — k-NN Regression with CV"
   ]
  },
  {
   "cell_type": "code",
   "execution_count": 32,
   "id": "798e8ec8",
   "metadata": {},
   "outputs": [],
   "source": [
    "from sklearn.metrics import root_mean_squared_error, r2_score\n",
    "from sklearn.neighbors import KNeighborsRegressor\n",
    "import numpy as np"
   ]
  },
  {
   "cell_type": "code",
   "execution_count": 29,
   "id": "579d70f1",
   "metadata": {},
   "outputs": [
    {
     "data": {
      "text/plain": [
       "Index(['size_m2', 'distance_center_km', 'rating', 'num_reviews', 'price'], dtype='object')"
      ]
     },
     "execution_count": 29,
     "metadata": {},
     "output_type": "execute_result"
    }
   ],
   "source": [
    "df=pd.read_csv('airbnb.csv')\n",
    "df.columns"
   ]
  },
  {
   "cell_type": "code",
   "execution_count": 47,
   "id": "92dac98d",
   "metadata": {},
   "outputs": [
    {
     "name": "stdout",
     "output_type": "stream",
     "text": [
      "Missing values check:\n",
      " size_m2               0\n",
      "distance_center_km    0\n",
      "rating                0\n",
      "num_reviews           0\n",
      "price                 0\n",
      "dtype: int64\n",
      "Nan values check:\n",
      " size_m2               0\n",
      "distance_center_km    0\n",
      "rating                0\n",
      "num_reviews           0\n",
      "price                 0\n",
      "dtype: int64\n"
     ]
    }
   ],
   "source": [
    "print(\"Missing values check:\\n\",df.isnull().sum())\n",
    "print(\"Nan values check:\\n\",df.isna().sum())"
   ]
  },
  {
   "cell_type": "code",
   "execution_count": 35,
   "id": "eade91ba",
   "metadata": {},
   "outputs": [
    {
     "name": "stdout",
     "output_type": "stream",
     "text": [
      "Best k: 19\n",
      "CV RMSE: 137.50411435034064\n",
      "Test RMSE: 118.45506604724406\n",
      "Test R²: -0.27334174969634817\n"
     ]
    }
   ],
   "source": [
    "x=df.drop(columns='price')\n",
    "y=df['price']\n",
    "scaler=StandardScaler()\n",
    "x_scaled=scaler.fit_transform(x)\n",
    "x_train,x_test,y_train,y_test=train_test_split(x,y,test_size=0.2,random_state=42)\n",
    "param_grid={\"n_neighbors\":range(1,26)}\n",
    "knn = KNeighborsRegressor()\n",
    "grid = GridSearchCV(knn, param_grid, cv=5, scoring=\"neg_mean_squared_error\")\n",
    "grid.fit(x_train, y_train)\n",
    "best_k = grid.best_params_[\"n_neighbors\"]\n",
    "best_knn = grid.best_estimator_\n",
    "y_pred = best_knn.predict(x_test)\n",
    "rmse = root_mean_squared_error(y_test, y_pred)\n",
    "print(\"Best k:\", best_k)\n",
    "print(\"CV RMSE:\", np.sqrt(-grid.best_score_))\n",
    "print(\"Test RMSE:\", rmse)\n",
    "print(\"Test R²:\", r2_score(y_test, y_pred))\n"
   ]
  }
 ],
 "metadata": {
  "kernelspec": {
   "display_name": "pyai",
   "language": "python",
   "name": "python3"
  },
  "language_info": {
   "codemirror_mode": {
    "name": "ipython",
    "version": 3
   },
   "file_extension": ".py",
   "mimetype": "text/x-python",
   "name": "python",
   "nbconvert_exporter": "python",
   "pygments_lexer": "ipython3",
   "version": "3.12.11"
  }
 },
 "nbformat": 4,
 "nbformat_minor": 5
}
